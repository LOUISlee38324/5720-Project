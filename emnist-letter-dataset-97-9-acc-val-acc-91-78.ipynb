{
 "cells": [
  {
   "cell_type": "markdown",
   "metadata": {
    "papermill": {
     "duration": 0.019158,
     "end_time": "2023-03-10T05:12:51.036932",
     "exception": false,
     "start_time": "2023-03-10T05:12:51.017774",
     "status": "completed"
    },
    "tags": []
   },
   "source": [
    "# <font color='Orange'>Hope everyone who reads this notebook finds it helpful. Do upvote it. Thank You 🙏😃"
   ]
  },
  {
   "cell_type": "markdown",
   "metadata": {
    "papermill": {
     "duration": 0.018544,
     "end_time": "2023-03-10T05:12:51.074717",
     "exception": false,
     "start_time": "2023-03-10T05:12:51.056173",
     "status": "completed"
    },
    "tags": []
   },
   "source": [
    "# <font color ='torcous'>EMNIST Letter Dataset with 96.7% accuracy "
   ]
  },
  {
   "attachments": {
    "emnist-byclass.png": {
     "image/png": "[encoded data removed]"
    }
   },
   "cell_type": "markdown",
   "metadata": {
    "papermill": {
     "duration": 0.018867,
     "end_time": "2023-03-10T05:12:51.113151",
     "exception": false,
     "start_time": "2023-03-10T05:12:51.094284",
     "status": "completed"
    },
    "tags": []
   },
   "source": [
    "![emnist-byclass.png](attachment:emnist-byclass.png)"
   ]
  },
  {
   "cell_type": "markdown",
   "metadata": {
    "papermill": {
     "duration": 0.01953,
     "end_time": "2023-03-10T05:12:51.152351",
     "exception": false,
     "start_time": "2023-03-10T05:12:51.132821",
     "status": "completed"
    },
    "tags": []
   },
   "source": [
    "## <font color='#00B2FF'> The EMNIST dataset is a set of handwritten character digits derived from the NIST Special Database 19 and converted to a 28x28 pixel image format and dataset structure that directly matches the MNIST dataset .\n"
   ]
  },
  {
   "cell_type": "markdown",
   "metadata": {
    "papermill": {
     "duration": 0.020413,
     "end_time": "2023-03-10T05:12:51.195838",
     "exception": false,
     "start_time": "2023-03-10T05:12:51.175425",
     "status": "completed"
    },
    "tags": []
   },
   "source": [
    "## Here we are specifically using EMNIST letter dataset. So Let's get started"
   ]
  },
  {
   "cell_type": "code",
   "execution_count": 42,
   "metadata": {
    "_cell_guid": "b1076dfc-b9ad-4769-8c92-a6c4dae69d19",
    "_kg_hide-output": true,
    "_uuid": "8f2839f25d086af736a60e9eeb907d3b93b6e0e5",
    "execution": {
     "iopub.execute_input": "2023-03-10T05:11:15.957916Z",
     "iopub.status.busy": "2023-03-10T05:11:15.957190Z",
     "iopub.status.idle": "2023-03-10T05:11:16.003602Z",
     "shell.execute_reply": "2023-03-10T05:11:16.002072Z",
     "shell.execute_reply.started": "2023-03-10T05:11:15.957834Z"
    },
    "papermill": {
     "duration": 0.070201,
     "end_time": "2023-03-10T05:12:51.285870",
     "exception": false,
     "start_time": "2023-03-10T05:12:51.215669",
     "status": "completed"
    },
    "tags": []
   },
   "outputs": [],
   "source": [
    "# This Python 3 environment comes with many helpful analytics libraries installed\n",
    "# It is defined by the kaggle/python Docker image: https://github.com/kaggle/docker-python\n",
    "# For example, here's several helpful packages to load\n",
    "\n",
    "import numpy as np # linear algebra\n",
    "import pandas as pd # data processing, CSV file I/O (e.g. pd.read_csv)\n",
    "\n",
    "# Input data files are available in the read-only \"../input/\" directory\n",
    "# For example, running this (by clicking run or pressing Shift+Enter) will list all files under the input directory\n",
    "\n",
    "import os\n",
    "for dirname, _, filenames in os.walk('/kaggle/input'):\n",
    "    for filename in filenames:\n",
    "        print(os.path.join(dirname, filename))\n",
    "\n",
    "# You can write up to 5GB to the current directory (/kaggle/working/) that gets preserved as output when you create a version using \"Save & Run All\" \n",
    "# You can also write temporary files to /kaggle/temp/, but they won't be saved outside of the current session"
   ]
  },
  {
   "cell_type": "code",
   "execution_count": 43,
   "metadata": {
    "_cell_guid": "79c7e3d0-c299-4dcb-8224-4455121ee9b0",
    "_uuid": "d629ff2d2480ee46fbb7e2d37f6b5fab8052498a",
    "execution": {
     "iopub.execute_input": "2023-03-10T05:11:16.006818Z",
     "iopub.status.busy": "2023-03-10T05:11:16.006474Z",
     "iopub.status.idle": "2023-03-10T05:11:28.000911Z",
     "shell.execute_reply": "2023-03-10T05:11:27.999404Z",
     "shell.execute_reply.started": "2023-03-10T05:11:16.006767Z"
    },
    "papermill": {
     "duration": 8.022098,
     "end_time": "2023-03-10T05:12:59.329553",
     "exception": false,
     "start_time": "2023-03-10T05:12:51.307455",
     "status": "completed"
    },
    "tags": []
   },
   "outputs": [],
   "source": [
    "#/kaggle/input/emnist/emnist-letters-mapping.txt\n",
    "testing_letter = pd.read_csv('./emnist-letters-test.csv')\n",
    "training_letter = pd.read_csv('./emnist-letters-train.csv')"
   ]
  },
  {
   "cell_type": "code",
   "execution_count": 44,
   "metadata": {
    "execution": {
     "iopub.execute_input": "2023-03-10T05:11:28.003974Z",
     "iopub.status.busy": "2023-03-10T05:11:28.003426Z",
     "iopub.status.idle": "2023-03-10T05:11:28.012240Z",
     "shell.execute_reply": "2023-03-10T05:11:28.010478Z",
     "shell.execute_reply.started": "2023-03-10T05:11:28.003884Z"
    },
    "papermill": {
     "duration": 0.029252,
     "end_time": "2023-03-10T05:12:59.377648",
     "exception": false,
     "start_time": "2023-03-10T05:12:59.348396",
     "status": "completed"
    },
    "tags": []
   },
   "outputs": [
    {
     "name": "stdout",
     "output_type": "stream",
     "text": [
      "(88799, 785)\n",
      "(14799, 785)\n"
     ]
    }
   ],
   "source": [
    "print(training_letter.shape)\n",
    "print(testing_letter.shape)"
   ]
  },
  {
   "cell_type": "code",
   "execution_count": 45,
   "metadata": {
    "execution": {
     "iopub.execute_input": "2023-03-10T05:11:28.015136Z",
     "iopub.status.busy": "2023-03-10T05:11:28.014569Z",
     "iopub.status.idle": "2023-03-10T05:11:28.468848Z",
     "shell.execute_reply": "2023-03-10T05:11:28.467611Z",
     "shell.execute_reply.started": "2023-03-10T05:11:28.015058Z"
    },
    "papermill": {
     "duration": 0.133327,
     "end_time": "2023-03-10T05:12:59.532010",
     "exception": false,
     "start_time": "2023-03-10T05:12:59.398683",
     "status": "completed"
    },
    "tags": []
   },
   "outputs": [
    {
     "name": "stdout",
     "output_type": "stream",
     "text": [
      "(88799,)\n",
      "(88799, 784)\n"
     ]
    }
   ],
   "source": [
    "#training_letters\n",
    "y1 = np.array(training_letter.iloc[:,0].values)\n",
    "x1 = np.array(training_letter.iloc[:,1:].values)\n",
    "#testing_labels\n",
    "y2 = np.array(testing_letter.iloc[:,0].values)\n",
    "x2 = np.array(testing_letter.iloc[:,1:].values)\n",
    "print(y1.shape)\n",
    "print(x1.shape)"
   ]
  },
  {
   "cell_type": "markdown",
   "metadata": {
    "papermill": {
     "duration": 0.018829,
     "end_time": "2023-03-10T05:12:59.572214",
     "exception": false,
     "start_time": "2023-03-10T05:12:59.553385",
     "status": "completed"
    },
    "tags": []
   },
   "source": [
    "## Let's see what type of images we have got. "
   ]
  },
  {
   "cell_type": "code",
   "execution_count": 46,
   "metadata": {
    "execution": {
     "iopub.execute_input": "2023-03-10T05:11:28.473351Z",
     "iopub.status.busy": "2023-03-10T05:11:28.473003Z",
     "iopub.status.idle": "2023-03-10T05:11:30.091067Z",
     "shell.execute_reply": "2023-03-10T05:11:30.089627Z",
     "shell.execute_reply.started": "2023-03-10T05:11:28.473299Z"
    },
    "papermill": {
     "duration": 1.294692,
     "end_time": "2023-03-10T05:13:00.886374",
     "exception": false,
     "start_time": "2023-03-10T05:12:59.591682",
     "status": "completed"
    },
    "tags": []
   },
   "outputs": [
    {
     "data": {
      "image/png": "[encoded data removed]",
      "text/plain": [
       "<Figure size 1000x800 with 15 Axes>"
      ]
     },
     "metadata": {},
     "output_type": "display_data"
    }
   ],
   "source": [
    "import matplotlib.pyplot as plt \n",
    "fig,axes = plt.subplots(3,5,figsize=(10,8))\n",
    "for i,ax in enumerate(axes.flat):\n",
    "    ax.imshow(x1[i].reshape([28,28]))\n"
   ]
  },
  {
   "cell_type": "code",
   "execution_count": 47,
   "metadata": {
    "execution": {
     "iopub.execute_input": "2023-03-10T05:11:30.093677Z",
     "iopub.status.busy": "2023-03-10T05:11:30.093247Z",
     "iopub.status.idle": "2023-03-10T05:11:36.561895Z",
     "shell.execute_reply": "2023-03-10T05:11:36.560560Z",
     "shell.execute_reply.started": "2023-03-10T05:11:30.093624Z"
    },
    "papermill": {
     "duration": 5.544983,
     "end_time": "2023-03-10T05:13:06.451632",
     "exception": false,
     "start_time": "2023-03-10T05:13:00.906649",
     "status": "completed"
    },
    "scrolled": true,
    "tags": []
   },
   "outputs": [],
   "source": [
    "import tensorflow as tf"
   ]
  },
  {
   "cell_type": "code",
   "execution_count": 48,
   "metadata": {},
   "outputs": [
    {
     "name": "stdout",
     "output_type": "stream",
     "text": [
      "3.9.13 (main, Oct 13 2022, 21:23:06) [MSC v.1916 64 bit (AMD64)]\n"
     ]
    }
   ],
   "source": [
    "import sys\n",
    "print(sys.version)"
   ]
  },
  {
   "cell_type": "markdown",
   "metadata": {
    "papermill": {
     "duration": 0.020302,
     "end_time": "2023-03-10T05:13:06.492188",
     "exception": false,
     "start_time": "2023-03-10T05:13:06.471886",
     "status": "completed"
    },
    "tags": []
   },
   "source": [
    "# Preprocesssing"
   ]
  },
  {
   "cell_type": "markdown",
   "metadata": {
    "papermill": {
     "duration": 0.020287,
     "end_time": "2023-03-10T05:13:06.532589",
     "exception": false,
     "start_time": "2023-03-10T05:13:06.512302",
     "status": "completed"
    },
    "tags": []
   },
   "source": [
    "# 1. Normalisation and reshaping of data"
   ]
  },
  {
   "cell_type": "markdown",
   "metadata": {
    "papermill": {
     "duration": 0.02026,
     "end_time": "2023-03-10T05:13:06.573776",
     "exception": false,
     "start_time": "2023-03-10T05:13:06.553516",
     "status": "completed"
    },
    "tags": []
   },
   "source": [
    "### Before feeding in the data to the model we will normalise and reshape the data given to us. This will decrease the complexity of the models and make the model work efficiently as less complex numbers will be there to process."
   ]
  },
  {
   "cell_type": "markdown",
   "metadata": {
    "papermill": {
     "duration": 0.02019,
     "end_time": "2023-03-10T05:13:06.614762",
     "exception": false,
     "start_time": "2023-03-10T05:13:06.594572",
     "status": "completed"
    },
    "tags": []
   },
   "source": [
    "the max pixel value in grayscale being 255 i am dividing the pixels by 255"
   ]
  },
  {
   "cell_type": "code",
   "execution_count": 49,
   "metadata": {
    "execution": {
     "iopub.execute_input": "2023-03-10T05:11:36.563612Z",
     "iopub.status.busy": "2023-03-10T05:11:36.563301Z",
     "iopub.status.idle": "2023-03-10T05:11:36.941810Z",
     "shell.execute_reply": "2023-03-10T05:11:36.940733Z",
     "shell.execute_reply.started": "2023-03-10T05:11:36.563574Z"
    },
    "papermill": {
     "duration": 0.188076,
     "end_time": "2023-03-10T05:13:06.823618",
     "exception": false,
     "start_time": "2023-03-10T05:13:06.635542",
     "status": "completed"
    },
    "scrolled": true,
    "tags": []
   },
   "outputs": [
    {
     "name": "stdout",
     "output_type": "stream",
     "text": [
      "88799\n",
      "(88799, 784)\n",
      "(88799, 28, 28, 1)\n"
     ]
    }
   ],
   "source": [
    "# Normalise and reshape data\n",
    "train_images = x1 / 255.0\n",
    "test_images = x2 / 255.0\n",
    "\n",
    "train_images_number = train_images.shape[0]\n",
    "\n",
    "print(train_images_number)\n",
    "\n",
    "train_images_height = 28\n",
    "train_images_width = 28\n",
    "train_images_size = train_images_height*train_images_width\n",
    "\n",
    "print(train_images.shape)\n",
    "\n",
    "train_images = train_images.reshape(train_images_number, train_images_height, train_images_width, 1)\n",
    "# This is to set the height or depth as 1 unit.\n",
    "\n",
    "print(train_images.shape)\n",
    "\n",
    "test_images_number = test_images.shape[0]\n",
    "test_images_height = 28\n",
    "test_images_width = 28\n",
    "test_images_size = test_images_height*test_images_width\n",
    "\n",
    "test_images = test_images.reshape(test_images_number, test_images_height, test_images_width, 1)"
   ]
  },
  {
   "cell_type": "code",
   "execution_count": 50,
   "metadata": {},
   "outputs": [
    {
     "name": "stdout",
     "output_type": "stream",
     "text": [
      "[ 7 16 15 ...  1 23 12]\n",
      "(88799,)\n",
      "7\n",
      "[0 1 2 3]\n",
      "(4,)\n",
      "(4, 37)\n"
     ]
    }
   ],
   "source": [
    "print(y1)\n",
    "print(y1.shape)\n",
    "print(y1[0])\n",
    "b=[0,1,2,3]\n",
    "b=np.array(b)\n",
    "print(np.array(b))\n",
    "print(b.shape)\n",
    "a = tf.keras.utils.to_categorical(b, num_classes=37)\n",
    "print(a.shape)"
   ]
  },
  {
   "cell_type": "code",
   "execution_count": 51,
   "metadata": {
    "execution": {
     "iopub.execute_input": "2023-03-10T05:11:36.943204Z",
     "iopub.status.busy": "2023-03-10T05:11:36.942909Z",
     "iopub.status.idle": "2023-03-10T05:11:36.958188Z",
     "shell.execute_reply": "2023-03-10T05:11:36.956845Z",
     "shell.execute_reply.started": "2023-03-10T05:11:36.943157Z"
    },
    "papermill": {
     "duration": 0.031417,
     "end_time": "2023-03-10T05:13:06.875830",
     "exception": false,
     "start_time": "2023-03-10T05:13:06.844413",
     "status": "completed"
    },
    "tags": []
   },
   "outputs": [
    {
     "name": "stdout",
     "output_type": "stream",
     "text": [
      "(88799, 37)\n"
     ]
    }
   ],
   "source": [
    "# Transform labels\n",
    "number_of_classes = 37\n",
    "\n",
    "y1 = tf.keras.utils.to_categorical(y1, number_of_classes)\n",
    "y2 = tf.keras.utils.to_categorical(y2, number_of_classes)\n",
    "\n",
    "print(y1.shape)"
   ]
  },
  {
   "cell_type": "markdown",
   "metadata": {
    "papermill": {
     "duration": 0.02005,
     "end_time": "2023-03-10T05:13:06.916366",
     "exception": false,
     "start_time": "2023-03-10T05:13:06.896316",
     "status": "completed"
    },
    "tags": []
   },
   "source": [
    "# Lets create a CNN for the classification of these random images."
   ]
  },
  {
   "cell_type": "code",
   "execution_count": 52,
   "metadata": {
    "execution": {
     "iopub.execute_input": "2023-03-10T05:11:36.960283Z",
     "iopub.status.busy": "2023-03-10T05:11:36.959820Z",
     "iopub.status.idle": "2023-03-10T05:11:36.976781Z",
     "shell.execute_reply": "2023-03-10T05:11:36.975540Z",
     "shell.execute_reply.started": "2023-03-10T05:11:36.960197Z"
    },
    "papermill": {
     "duration": 0.039558,
     "end_time": "2023-03-10T05:13:06.976561",
     "exception": false,
     "start_time": "2023-03-10T05:13:06.937003",
     "status": "completed"
    },
    "tags": []
   },
   "outputs": [],
   "source": [
    "#from tensorflow.keras.preprocessing.image import ImageDataGenerator\n",
    "#from tensorflow.keras.models import Model\n",
    "#from tensorflow.keras.layers import Dense,Dropout,MaxPooling2D,Conv2D\n",
    "from tensorflow.keras.callbacks import EarlyStopping, ReduceLROnPlateau,ModelCheckpoint"
   ]
  },
  {
   "cell_type": "code",
   "execution_count": 54,
   "metadata": {
    "execution": {
     "iopub.execute_input": "2023-03-10T05:11:36.978554Z",
     "iopub.status.busy": "2023-03-10T05:11:36.978187Z",
     "iopub.status.idle": "2023-03-10T05:11:37.812677Z",
     "shell.execute_reply": "2023-03-10T05:11:37.811246Z",
     "shell.execute_reply.started": "2023-03-10T05:11:36.978501Z"
    },
    "papermill": {
     "duration": 0.809403,
     "end_time": "2023-03-10T05:13:07.806480",
     "exception": false,
     "start_time": "2023-03-10T05:13:06.997077",
     "status": "completed"
    },
    "tags": []
   },
   "outputs": [],
   "source": [
    "from sklearn.model_selection import train_test_split"
   ]
  },
  {
   "cell_type": "code",
   "execution_count": 55,
   "metadata": {
    "execution": {
     "iopub.execute_input": "2023-03-10T05:11:37.814603Z",
     "iopub.status.busy": "2023-03-10T05:11:37.814245Z",
     "iopub.status.idle": "2023-03-10T05:11:39.340097Z",
     "shell.execute_reply": "2023-03-10T05:11:39.338668Z",
     "shell.execute_reply.started": "2023-03-10T05:11:37.814561Z"
    },
    "papermill": {
     "duration": 0.534967,
     "end_time": "2023-03-10T05:13:08.361475",
     "exception": false,
     "start_time": "2023-03-10T05:13:07.826508",
     "status": "completed"
    },
    "tags": []
   },
   "outputs": [],
   "source": [
    "train_x,test_x,train_y,test_y = train_test_split(train_images,y1,test_size=0.2,random_state = 42)"
   ]
  },
  {
   "cell_type": "code",
   "execution_count": 57,
   "metadata": {
    "execution": {
     "iopub.execute_input": "2023-03-10T05:11:39.342168Z",
     "iopub.status.busy": "2023-03-10T05:11:39.341766Z",
     "iopub.status.idle": "2023-03-10T05:11:39.490880Z",
     "shell.execute_reply": "2023-03-10T05:11:39.489865Z",
     "shell.execute_reply.started": "2023-03-10T05:11:39.342079Z"
    },
    "papermill": {
     "duration": 0.155907,
     "end_time": "2023-03-10T05:13:08.537450",
     "exception": false,
     "start_time": "2023-03-10T05:13:08.381543",
     "status": "completed"
    },
    "tags": []
   },
   "outputs": [],
   "source": [
    "model = tf.keras.Sequential([ \n",
    "    tf.keras.layers.Conv2D(32,3,input_shape=(28,28,1)), #这是第一层，可以定义input_shape参数；32是输出的维度；3是指kernel宽和高都是3;所以输出是26x26x32的下一层。每个kernel中的weight都不一样\n",
    "    tf.keras.layers.MaxPooling2D(2,2), #从2x2共4个数字中，选择最大的数字作为输出\n",
    "    tf.keras.layers.Flatten(input_shape=(28,28,1)), #将图像的格式从2d阵列（28乘28像素）转换为28 * 28 = 784像素的1d阵列。该层没有要学习的参数; 它只重新格式化数据\n",
    "    tf.keras.layers.Dense(512,activation='relu'), #全连接层\n",
    "    tf.keras.layers.Dense(128,activation='relu'),#全连接层\n",
    "    tf.keras.layers.Dense(number_of_classes,activation='softmax')#输出层\n",
    "])"
   ]
  },
  {
   "cell_type": "code",
   "execution_count": 59,
   "metadata": {
    "execution": {
     "iopub.execute_input": "2023-03-10T05:11:39.493104Z",
     "iopub.status.busy": "2023-03-10T05:11:39.492454Z",
     "iopub.status.idle": "2023-03-10T05:11:39.534967Z",
     "shell.execute_reply": "2023-03-10T05:11:39.534105Z",
     "shell.execute_reply.started": "2023-03-10T05:11:39.493030Z"
    },
    "papermill": {
     "duration": 0.060111,
     "end_time": "2023-03-10T05:13:08.617971",
     "exception": false,
     "start_time": "2023-03-10T05:13:08.557860",
     "status": "completed"
    },
    "tags": []
   },
   "outputs": [],
   "source": [
    "model.compile(optimizer='rmsprop',loss='categorical_crossentropy',metrics=['accuracy'])\n",
    "#配置训练方法\n",
    "#优化器是 RMSprop算法。RMSProp在非凸条件下结果更好，改变梯度累积为指数衰减的移动平均以丢弃遥远的过去历史\n",
    "#loss函数是交叉熵损失函数\n",
    "#评价标准是精度。即Calculates how often predictions equal labels."
   ]
  },
  {
   "cell_type": "markdown",
   "metadata": {
    "papermill": {
     "duration": 0.020012,
     "end_time": "2023-03-10T05:13:08.658198",
     "exception": false,
     "start_time": "2023-03-10T05:13:08.638186",
     "status": "completed"
    },
    "tags": []
   },
   "source": [
    "## Adding Callback API's to save best weights and change lr"
   ]
  },
  {
   "cell_type": "code",
   "execution_count": 14,
   "metadata": {
    "execution": {
     "iopub.execute_input": "2023-03-10T05:11:39.537010Z",
     "iopub.status.busy": "2023-03-10T05:11:39.536336Z",
     "iopub.status.idle": "2023-03-10T05:11:39.545429Z",
     "shell.execute_reply": "2023-03-10T05:11:39.544034Z",
     "shell.execute_reply.started": "2023-03-10T05:11:39.536945Z"
    },
    "papermill": {
     "duration": 0.030434,
     "end_time": "2023-03-10T05:13:08.708923",
     "exception": false,
     "start_time": "2023-03-10T05:13:08.678489",
     "status": "completed"
    },
    "tags": []
   },
   "outputs": [],
   "source": [
    "MCP = ModelCheckpoint('Best_points.h5',verbose=1,save_best_only=True,monitor='val_accuracy',mode='max')\n",
    "#ModelCheckpoint函数用来在每个epoch结束时保存最好的模型权重\n",
    "#verbose=1表示保存时输出信息到控制台；monitor='val_accuracy'表示监控validation set的准确率指标；mode='max'表示要最大化monitor的指标\n",
    "ES = EarlyStopping(monitor='val_accuracy',min_delta=0,verbose=0,restore_best_weights = True,patience=3,mode='max')\n",
    "#EarlyStopping函数用来在模型停止改善时，提前结束训练\n",
    "RLP = ReduceLROnPlateau(monitor='val_loss',patience=3,factor=0.2,min_lr=0.0001)"
   ]
  },
  {
   "cell_type": "code",
   "execution_count": 15,
   "metadata": {
    "execution": {
     "iopub.execute_input": "2023-03-10T05:11:39.547220Z",
     "iopub.status.busy": "2023-03-10T05:11:39.546889Z"
    },
    "papermill": {
     "duration": 436.671516,
     "end_time": "2023-03-10T05:20:25.400558",
     "exception": false,
     "start_time": "2023-03-10T05:13:08.729042",
     "status": "completed"
    },
    "tags": []
   },
   "outputs": [
    {
     "name": "stdout",
     "output_type": "stream",
     "text": [
      "Train on 71039 samples, validate on 17760 samples\n",
      "Epoch 1/10\n",
      "70976/71039 [============================>.] - ETA: 0s - loss: 0.5555 - accuracy: 0.8257\n",
      "Epoch 00001: val_accuracy improved from -inf to 0.86881, saving model to Best_points.h5\n",
      "71039/71039 [==============================] - 43s 610us/sample - loss: 0.5553 - accuracy: 0.8257 - val_loss: 0.4165 - val_accuracy: 0.8688\n",
      "Epoch 2/10\n",
      "70944/71039 [============================>.] - ETA: 0s - loss: 0.2793 - accuracy: 0.9096\n",
      "Epoch 00002: val_accuracy improved from 0.86881 to 0.90298, saving model to Best_points.h5\n",
      "71039/71039 [==============================] - 42s 588us/sample - loss: 0.2792 - accuracy: 0.9096 - val_loss: 0.3022 - val_accuracy: 0.9030\n",
      "Epoch 3/10\n",
      "70944/71039 [============================>.] - ETA: 0s - loss: 0.2188 - accuracy: 0.9272\n",
      "Epoch 00003: val_accuracy did not improve from 0.90298\n",
      "71039/71039 [==============================] - 44s 621us/sample - loss: 0.2188 - accuracy: 0.9271 - val_loss: 0.3394 - val_accuracy: 0.8975\n",
      "Epoch 4/10\n",
      "71008/71039 [============================>.] - ETA: 0s - loss: 0.1906 - accuracy: 0.9365\n",
      "Epoch 00004: val_accuracy did not improve from 0.90298\n",
      "71039/71039 [==============================] - 45s 634us/sample - loss: 0.1906 - accuracy: 0.9365 - val_loss: 0.3911 - val_accuracy: 0.8977\n",
      "Epoch 5/10\n",
      "71008/71039 [============================>.] - ETA: 0s - loss: 0.1762 - accuracy: 0.9409\n",
      "Epoch 00005: val_accuracy improved from 0.90298 to 0.90524, saving model to Best_points.h5\n",
      "71039/71039 [==============================] - 47s 659us/sample - loss: 0.1762 - accuracy: 0.9409 - val_loss: 0.4675 - val_accuracy: 0.9052\n",
      "Epoch 6/10\n",
      "70944/71039 [============================>.] - ETA: 0s - loss: 0.0842 - accuracy: 0.9683\n",
      "Epoch 00006: val_accuracy improved from 0.90524 to 0.91700, saving model to Best_points.h5\n",
      "71039/71039 [==============================] - 52s 730us/sample - loss: 0.0841 - accuracy: 0.9684 - val_loss: 0.3929 - val_accuracy: 0.9170\n",
      "Epoch 7/10\n",
      "53696/71039 [=====================>........] - ETA: 12s - loss: 0.0671 - accuracy: 0.9744"
     ]
    }
   ],
   "source": [
    "history = model.fit(train_x,train_y,epochs=10,validation_data=(test_x,test_y),callbacks=[MCP,ES,RLP])"
   ]
  },
  {
   "cell_type": "markdown",
   "metadata": {
    "papermill": {
     "duration": 1.389217,
     "end_time": "2023-03-10T05:20:28.123987",
     "exception": false,
     "start_time": "2023-03-10T05:20:26.734770",
     "status": "completed"
    },
    "tags": []
   },
   "source": [
    "## Let's plot Accuracy vs Val_Accuracy to further evaluation.."
   ]
  },
  {
   "cell_type": "code",
   "execution_count": 16,
   "metadata": {
    "papermill": {
     "duration": 1.456472,
     "end_time": "2023-03-10T05:20:30.902392",
     "exception": false,
     "start_time": "2023-03-10T05:20:29.445920",
     "status": "completed"
    },
    "tags": []
   },
   "outputs": [],
   "source": [
    "import seaborn as sns"
   ]
  },
  {
   "cell_type": "code",
   "execution_count": 17,
   "metadata": {
    "papermill": {
     "duration": 1.572855,
     "end_time": "2023-03-10T05:20:33.793904",
     "exception": false,
     "start_time": "2023-03-10T05:20:32.221049",
     "status": "completed"
    },
    "tags": []
   },
   "outputs": [
    {
     "data": {
      "text/plain": [
       "Text(0, 0.5, 'Accuray')"
      ]
     },
     "execution_count": 17,
     "metadata": {},
     "output_type": "execute_result"
    },
    {
     "data": {
      "image/png": "[encoded data removed]",
      "text/plain": [
       "<Figure size 432x288 with 1 Axes>"
      ]
     },
     "metadata": {
      "needs_background": "light"
     },
     "output_type": "display_data"
    }
   ],
   "source": [
    "q = len(history.history['accuracy'])\n",
    "\n",
    "plt.figsize=(10,10)\n",
    "sns.lineplot(x = range(1,1+q),y = history.history['accuracy'], label='Accuracy')\n",
    "sns.lineplot(x = range(1,1+q),y = history.history['val_accuracy'], label='Val_Accuracy')\n",
    "plt.xlabel('epochs')\n",
    "plt.ylabel('Accuray')"
   ]
  },
  {
   "cell_type": "markdown",
   "metadata": {
    "papermill": {
     "duration": 1.343889,
     "end_time": "2023-03-10T05:20:36.488839",
     "exception": false,
     "start_time": "2023-03-10T05:20:35.144950",
     "status": "completed"
    },
    "tags": []
   },
   "source": [
    "## Changing the test_split size to 0.15 to see if validation score increases or not"
   ]
  },
  {
   "cell_type": "code",
   "execution_count": 18,
   "metadata": {
    "papermill": {
     "duration": 2.020468,
     "end_time": "2023-03-10T05:20:39.874069",
     "exception": false,
     "start_time": "2023-03-10T05:20:37.853601",
     "status": "completed"
    },
    "tags": []
   },
   "outputs": [],
   "source": [
    "train_x2,test_x2,train_y2,test_y2 = train_test_split(train_images,y1,test_size=0.15,random_state = 42)"
   ]
  },
  {
   "cell_type": "code",
   "execution_count": 19,
   "metadata": {
    "papermill": {
     "duration": 552.360439,
     "end_time": "2023-03-10T05:29:53.593064",
     "exception": false,
     "start_time": "2023-03-10T05:20:41.232625",
     "status": "completed"
    },
    "tags": []
   },
   "outputs": [
    {
     "name": "stdout",
     "output_type": "stream",
     "text": [
      "Train on 75479 samples, validate on 13320 samples\n",
      "Epoch 1/10\n",
      "75479/75479 [==============================] - 56s 736us/sample - loss: 0.0805 - accuracy: 0.9729 - val_loss: 0.3644 - val_accuracy: 0.9190\n",
      "Epoch 2/10\n",
      "75479/75479 [==============================] - 52s 691us/sample - loss: 0.0722 - accuracy: 0.9747 - val_loss: 0.3781 - val_accuracy: 0.9185\n",
      "Epoch 3/10\n",
      "75479/75479 [==============================] - 53s 705us/sample - loss: 0.0662 - accuracy: 0.9764 - val_loss: 0.3938 - val_accuracy: 0.9181\n",
      "Epoch 4/10\n",
      "75479/75479 [==============================] - 53s 704us/sample - loss: 0.0618 - accuracy: 0.9773 - val_loss: 0.3825 - val_accuracy: 0.9129\n",
      "Epoch 5/10\n",
      "75479/75479 [==============================] - 54s 719us/sample - loss: 0.0585 - accuracy: 0.9786 - val_loss: 0.4153 - val_accuracy: 0.9160\n",
      "Epoch 6/10\n",
      "75479/75479 [==============================] - 57s 755us/sample - loss: 0.0560 - accuracy: 0.9791 - val_loss: 0.4163 - val_accuracy: 0.9143\n",
      "Epoch 7/10\n",
      "75479/75479 [==============================] - 55s 730us/sample - loss: 0.0529 - accuracy: 0.9795 - val_loss: 0.4132 - val_accuracy: 0.9104\n",
      "Epoch 8/10\n",
      "75479/75479 [==============================] - 55s 734us/sample - loss: 0.0513 - accuracy: 0.9801 - val_loss: 0.4357 - val_accuracy: 0.9139\n",
      "Epoch 9/10\n",
      "75479/75479 [==============================] - 56s 739us/sample - loss: 0.0488 - accuracy: 0.9805 - val_loss: 0.4338 - val_accuracy: 0.9140\n",
      "Epoch 10/10\n",
      "75479/75479 [==============================] - 54s 721us/sample - loss: 0.0474 - accuracy: 0.9814 - val_loss: 0.4631 - val_accuracy: 0.9146\n"
     ]
    }
   ],
   "source": [
    "history1 = model.fit(train_x2,train_y2,epochs=10,validation_data=(test_x2,test_y2))"
   ]
  },
  {
   "cell_type": "code",
   "execution_count": 20,
   "metadata": {
    "papermill": {
     "duration": 3.757151,
     "end_time": "2023-03-10T05:30:00.887356",
     "exception": false,
     "start_time": "2023-03-10T05:29:57.130205",
     "status": "completed"
    },
    "tags": []
   },
   "outputs": [
    {
     "data": {
      "text/plain": [
       "Text(0, 0.5, 'Accuray')"
      ]
     },
     "execution_count": 20,
     "metadata": {},
     "output_type": "execute_result"
    },
    {
     "data": {
      "image/png": "[encoded data removed]",
      "text/plain": [
       "<Figure size 432x288 with 1 Axes>"
      ]
     },
     "metadata": {
      "needs_background": "light"
     },
     "output_type": "display_data"
    }
   ],
   "source": [
    "q = len(history1.history['accuracy'])\n",
    "\n",
    "plt.figsize=(10,10)\n",
    "sns.lineplot(x = range(1,1+q),y = history1.history['accuracy'], label='Accuracy')\n",
    "sns.lineplot(x = range(1,1+q),y = history1.history['val_accuracy'], label='Val_Accuracy')\n",
    "plt.xlabel('epochs')\n",
    "plt.ylabel('Accuray')"
   ]
  },
  {
   "cell_type": "markdown",
   "metadata": {
    "papermill": {
     "duration": 3.533966,
     "end_time": "2023-03-10T05:30:08.101171",
     "exception": false,
     "start_time": "2023-03-10T05:30:04.567205",
     "status": "completed"
    },
    "tags": []
   },
   "source": [
    "# As the validation score score went down we won't be changing the test_split size. \n",
    "# Thus the above model is better than the latter one."
   ]
  },
  {
   "cell_type": "markdown",
   "metadata": {
    "papermill": {
     "duration": 3.681529,
     "end_time": "2023-03-10T05:30:15.477798",
     "exception": false,
     "start_time": "2023-03-10T05:30:11.796269",
     "status": "completed"
    },
    "tags": []
   },
   "source": [
    "## Hope everyone who reads this notebook finds it helpful. \n",
    "## Do upvote it. Thank You🙏😃"
   ]
  },
  {
   "cell_type": "code",
   "execution_count": null,
   "metadata": {
    "papermill": {
     "duration": 3.65441,
     "end_time": "2023-03-10T05:30:22.658769",
     "exception": false,
     "start_time": "2023-03-10T05:30:19.004359",
     "status": "completed"
    },
    "tags": []
   },
   "outputs": [],
   "source": []
  }
 ],
 "metadata": {
  "kernelspec": {
   "display_name": "Python 3 (ipykernel)",
   "language": "python",
   "name": "python3"
  },
  "language_info": {
   "codemirror_mode": {
    "name": "ipython",
    "version": 3
   },
   "file_extension": ".py",
   "mimetype": "text/x-python",
   "name": "python",
   "nbconvert_exporter": "python",
   "pygments_lexer": "ipython3",
   "version": "3.9.13"
  },
  "papermill": {
   "duration": 1061.170484,
   "end_time": "2023-03-10T05:30:27.654851",
   "environment_variables": {},
   "exception": null,
   "input_path": "__notebook__.ipynb",
   "output_path": "__notebook__.ipynb",
   "parameters": {},
   "start_time": "2023-03-10T05:12:46.484367",
   "version": "1.2.1"
  }
 },
 "nbformat": 4,
 "nbformat_minor": 4
}
